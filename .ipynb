{
 "cells": [
  {
   "cell_type": "code",
   "execution_count": 1,
   "metadata": {},
   "outputs": [],
   "source": [
    "import geostatspy.GSLIB as GSLIB          # GSLIB utilies, visualization and wrapper\n",
    "import geostatspy.geostats as geostats    # GSLIB methods convert to Python\n",
    "\n",
    "import numpy as np                        # ndarrys for gridded data\n",
    "import pandas as pd                       # DataFrames for tabular data\n",
    "import os                                 # set working directory, run executables\n",
    "import matplotlib.pyplot as plt           # for plotting\n",
    "from scipy import stats                   # summary statistics\n",
    "import math                               # trig etc.\n",
    "import random\n",
    "\n",
    "import itertools\n",
    "from itertools import combinations"
   ]
  },
  {
   "cell_type": "code",
   "execution_count": 2,
   "metadata": {},
   "outputs": [],
   "source": [
    "# Setting directory\n",
    "os.chdir(\"/Users/wnguyen/Dropbox/CR/mcfigs\") # set the working directory"
   ]
  },
  {
   "cell_type": "code",
   "execution_count": 3,
   "metadata": {},
   "outputs": [],
   "source": [
    "# Importing data\n",
    "data_url = 'https://raw.githubusercontent.com/wdnguyen/CR/master/CostaRica_Chemistry_20200518.csv'\n",
    "\n",
    "# Read data from url as pandas dataframe\n",
    "df = pd.read_csv(data_url)\n",
    "\n",
    "df['SamplingDate'] = pd.to_datetime(df['SamplingDate'])\n",
    "df['Chemetrics_Acidified_Date'] = pd.to_datetime(df['Chemetrics_Acidified_Date'])\n",
    "\n",
    "# Filtering endmembers\n",
    "df_rain = df[df['Site'] == \"Rain\"].reset_index(drop=True) # Endmember 1 = Rain\n",
    "df_soil = df[df['Site'] == \"Soil\"].reset_index(drop=True) # Endmember 2 = Soil\n",
    "df_spring = df[df['Site'] == \"Spring\"].reset_index(drop=True) # Endmember 3a = Spring\n",
    "df_us = df[(df['Site'] == \"Upstream\") & (df['SamplingDate'] < '2019')].reset_index(drop=True) # Endmember 3b = Upstream, not including 2019\n",
    "\n",
    "# Filtering mixing batches\n",
    "df_ds = df[(df['Site'] == \"Downstream\") & (df['SamplingDate'] < '2019')] # Mixing batch a, not including 2019\n",
    "df_ds = df_ds[~df_ds['ID'].str.contains(\"Howler\")] # Only want the DS samples\n",
    "df_ds = df_ds[~df_ds['ID'].str.contains(\"DS9Bot\")].reset_index(drop=True) # Filtering out DS9Bot (duplicate)\n",
    "df_stream = df[(df['Source'] == \"Stream\") & (df['SamplingDate'] < '2019')].reset_index() # Mixing batch b, not including 2019\n",
    "\n",
    "# Summary statistics:\n",
    "df_summary = df.groupby(\"Site\").describe()\n",
    "\n",
    "# For this analysis, I'm dropping the US samples that are missing \n",
    "# from the DS samples (because the ISCO was not installed correctly):\n",
    "# Samples 4 - 8, 10\n",
    "df_us = df_us.drop(df_us.index[3:8]).reset_index(drop=True)\n",
    "# df_us = df_us.drop(df_us.index[4]).reset_index(drop=True) # Dropping sample 10\n",
    "# df_ds = df_ds.drop(df_ds.index[4]).reset_index(drop=True) # Dropping sample 10\n",
    "\n",
    "# Sample 10 exists for O18 and D, do this one later"
   ]
  },
  {
   "cell_type": "code",
   "execution_count": null,
   "metadata": {},
   "outputs": [],
   "source": [
    "#SO4 and Cl\n",
    "# Endmembers: up, rain, soil\n",
    "# Mixing: down\n",
    "# up endmember is moving with mixing batch down # assume no error for now\n",
    "# applying normal distribution to rain and soil endmembers\n",
    "\n",
    "# 1 = SO4\n",
    "# 2 = Cl\n",
    "\n",
    "rain_1_mean = df_summary['SO4']['mean']['Rain']; rain_1_stdev = df_summary['SO4']['std']['Rain'] # Gaussian mean and standard deviation for rain endmember\n",
    "rain_2_mean = df_summary['Cl']['mean']['Rain']; rain_2_stdev = df_summary['Cl']['std']['Rain'] # Gaussian mean and standard deviation for rain endmember\n",
    "soil_1_mean = df_summary['SO4']['mean']['Soil']; soil_1_stdev = df_summary['SO4']['std']['Soil'] # Gaussian mean and standard deviation for soil endmember\n",
    "soil_2_mean = df_summary['Cl']['std']['Soil']; soil_2_stdev = df_summary['Cl']['std']['Soil'] # Gaussian mean and standard deviation for soil endmember\n",
    "L = 1000 # Number of MCS realizations\n",
    "\n",
    "# Stdev of rain Cl will be negative sometimes...make sure to correct for that later"
   ]
  },
  {
   "cell_type": "code",
   "execution_count": null,
   "metadata": {},
   "outputs": [],
   "source": [
    "# Apply normal distribution to draw L realizations for each variable and storing them in ndarrays\n",
    "rain_1 = np.random.normal(rain_1_mean, rain_1_stdev, size = L)\n",
    "rain_2 = np.random.normal(rain_2_mean, rain_2_stdev, size = L)\n",
    "soil_1 = np.random.normal(soil_1_mean, soil_1_stdev, size = L)\n",
    "soil_2 = np.random.normal(soil_2_mean, soil_2_stdev, size = L)"
   ]
  },
  {
   "cell_type": "code",
   "execution_count": null,
   "metadata": {},
   "outputs": [],
   "source": [
    "# Plotting distribution of the realizations fr each variable\n",
    "rain_1_min = rain_1_mean - rain_1_stdev; rain_1_max = rain_1_mean + rain_1_stdev            # average porosity min and max\n",
    "rain_2_min = rain_2_mean - rain_2_stdev; rain_2_max = rain_2_mean + rain_2_stdev\n",
    "soil_1_min = soil_1_mean - soil_1_stdev; soil_1_max = soil_1_mean + soil_1_stdev\n",
    "soil_2_min = soil_2_mean - soil_2_stdev; soil_2_max = soil_2_mean + soil_2_stdev \n",
    "\n",
    "plt.subplot(141)\n",
    "GSLIB.hist_st(rain_1,rain_1_min,rain_1_max,log=False,cumul=False,bins=50,weights=None,xlabel=\"Rain SO4 (mgL-1)\",title=\"Average Rain SO4 Realizations\")\n",
    "plt.ylim(0.0,30)\n",
    "\n",
    "plt.subplot(142)\n",
    "GSLIB.hist_st(rain_2,rain_2_min,rain_2_max,log=False,cumul=False,bins=50,weights=None,xlabel=\"Rain Cl (mgL-1)\",title=\"Average Rain Cl Realizations\")\n",
    "plt.ylim(0.0,30)\n",
    "\n",
    "plt.subplot(143)\n",
    "GSLIB.hist_st(soil_1,soil_1_min,soil_1_max,log=False,cumul=False,bins=50,weights=None,xlabel=\"Soil SO4 (mgL-1)\",title=\"Average Soil SO4 Realizations\")\n",
    "plt.ylim(0.0,30)\n",
    "\n",
    "plt.subplot(144)\n",
    "GSLIB.hist_st(soil_2,soil_2_min,soil_2_max,log=False,cumul=False,bins=50,weights=None,xlabel=\"Soil Cl (mgL-1)\",title=\"Average Soil Cl Realizations\")\n",
    "plt.ylim(0.0,30)\n",
    "\n",
    "plt.subplots_adjust(left=0.0, bottom=0.0, right=2.0, top=1.2, wspace=0.2, hspace=0.2)\n",
    "plt.show()"
   ]
  },
  {
   "cell_type": "code",
   "execution_count": null,
   "metadata": {},
   "outputs": [],
   "source": [
    "up_1 = np.repeat(0.9284, L)\n",
    "up_2 = np.repeat(2.2664, L)\n",
    "down_1 = np.repeat(1.1921, L)\n",
    "down_2 = np.repeat(2.2138, L)\n",
    "ones = np.repeat(1, L)"
   ]
  },
  {
   "cell_type": "code",
   "execution_count": null,
   "metadata": {},
   "outputs": [],
   "source": [
    "# Linear equations:\n",
    "# up_f = (down_1 - soil_1 - rain_f(rain_1 - soil_1))/(up_1 - soil_1)\n",
    "# soil_f = (down_2 - up_2 - rain_f(rain_2 - up_2))/(soil_2 - up_1)\n",
    "# rain_f = 1 - up_f - soil_f"
   ]
  },
  {
   "cell_type": "code",
   "execution_count": null,
   "metadata": {},
   "outputs": [],
   "source": [
    "results = []\n",
    "for x in range(0, L):\n",
    "    a = np.array([[up_1[x], soil_1[x], rain_1[x]], [up_2[x], soil_2[x], rain_2[x]], [ones[x], ones[x], ones[x]]])\n",
    "    b = np.array([down_1[x], down_2[x], ones[x]])\n",
    "    results.append(np.linalg.solve(a,b))\n",
    "\n",
    "# np.hstack(results)"
   ]
  },
  {
   "cell_type": "code",
   "execution_count": null,
   "metadata": {},
   "outputs": [],
   "source": [
    "up_f = []\n",
    "soil_f = []\n",
    "rain_f = []\n",
    "for x in range(0,L):\n",
    "    up_f.append(results[x][0])\n",
    "    soil_f.append(results[x][1])\n",
    "    rain_f.append(results[x][2])"
   ]
  },
  {
   "cell_type": "code",
   "execution_count": null,
   "metadata": {},
   "outputs": [],
   "source": [
    "df_ds"
   ]
  },
  {
   "cell_type": "code",
   "execution_count": 8,
   "metadata": {},
   "outputs": [
    {
     "data": {
      "text/plain": [
       "<Figure size 432x288 with 0 Axes>"
      ]
     },
     "metadata": {},
     "output_type": "display_data"
    }
   ],
   "source": [
    "# Nested loop: # more info: https://docs.python.org/3/library/itertools.html#itertools.combinations\n",
    "# https://stackoverflow.com/questions/942543/operation-on-every-pair-of-element-in-a-list/37907649\n",
    "\n",
    "var = ['SO4','Cl','O18','D'] # variables of interest\n",
    "L = 1000 # Number of MCS realizations\n",
    "ones = np.repeat(1, L) # numpy array of L ones\n",
    "save_results_to = '/Users/wnguyen/Dropbox/CR/mcfigs'\n",
    "# list(itertools.combinations(var, 2)) # generates list of combinations\n",
    "\n",
    "for pair in itertools.combinations(var, 2):\n",
    "    # 1) Deal with endmember pairs: Rain and Soil\n",
    "    rain_1_mean = df_summary[pair[0]]['mean']['Rain']\n",
    "    rain_1_stdev = df_summary[pair[0]]['std']['Rain']\n",
    "    rain_2_mean = df_summary[pair[1]]['mean']['Rain']\n",
    "    rain_2_stdev = df_summary[pair[1]]['std']['Rain']\n",
    "    soil_1_mean = df_summary[pair[0]]['mean']['Soil']\n",
    "    soil_1_stdev = df_summary[pair[0]]['std']['Soil']\n",
    "    soil_2_mean = df_summary[pair[1]]['mean']['Soil']\n",
    "    soil_2_stdev = df_summary[pair[1]]['std']['Soil']\n",
    "    # 2) Apply normal distribution to draw L realizations for each variable and storing them in ndarrays\n",
    "    rain_1 = np.random.normal(rain_1_mean, rain_1_stdev, size = L)\n",
    "    rain_2 = np.random.normal(rain_2_mean, rain_2_stdev, size = L)\n",
    "    soil_1 = np.random.normal(soil_1_mean, soil_1_stdev, size = L)\n",
    "    soil_2 = np.random.normal(soil_2_mean, soil_2_stdev, size = L)\n",
    "    # 3) Loop through each sample\n",
    "    for x in range(0, len(df_ds)): # Should be DS1 - DS26, minus the ones taken out earlier\n",
    "        sample = df_ds['ID'][x] # saving sample name for graphs (i.e. 'DS1')\n",
    "        up_1 = np.repeat((df_us[pair[0]][x]), L)\n",
    "        up_2 = np.repeat((df_us[pair[1]][x]), L)\n",
    "        down_1 = np.repeat((df_ds[pair[0]][x]), L)\n",
    "        down_2 = np.repeat((df_ds[pair[1]][x]), L)\n",
    "        results = []\n",
    "        for i in range(0, L):\n",
    "            a = np.array([[up_1[i], soil_1[i], rain_1[i]], [up_2[i], soil_2[i], rain_2[i]], [ones[i], ones[i], ones[i]]])\n",
    "            b = np.array([down_1[i], down_2[i], ones[i]])\n",
    "            results.append(np.linalg.solve(a,b))\n",
    "        up_f = []\n",
    "        soil_f = []\n",
    "        rain_f = []\n",
    "        for k in range(0,L):\n",
    "            up_f.append(results[k][0])\n",
    "            soil_f.append(results[k][1])\n",
    "            rain_f.append(results[k][2])\n",
    "        # Plots\n",
    "        plt.subplot(311)\n",
    "        GSLIB.hist_st(up_f,-1,2,log=False,cumul=False,bins=50,weights=None,xlabel=\"Up Fraction\",title=\"Up Fraction: {0} with {1} and {2}\".format(sample, pair[0], pair[1]))\n",
    "        plt.ylim(0.0,500)\n",
    "\n",
    "        plt.subplot(312)\n",
    "        GSLIB.hist_st(soil_f,-1,2,log=False,cumul=False,bins=50,weights=None,xlabel=\"Soil Fraction\",title=\"Soil Fraction: {0} with {1} and {2}\".format(sample, pair[0], pair[1]))\n",
    "        plt.ylim(0.0,500)\n",
    "\n",
    "        plt.subplot(313)\n",
    "        GSLIB.hist_st(rain_f,-1,2,log=False,cumul=False,bins=50,weights=None,xlabel=\"Rain Fraction\",title=\"Rain Fraction: {0} with {1} and {2}\".format(sample, pair[0], pair[1]))\n",
    "        plt.ylim(0.0,500)\n",
    "\n",
    "        plt.subplots_adjust(left=0.0, bottom=0.0, right=1.0, top=1.2, wspace=0.2, hspace=0.8)\n",
    "        \n",
    "        plt.savefig(\"Graph\" + str(sample) + str(pair[0]) + str(pair[1]) + \".png\", bbox_inches = 'tight')\n",
    "        plt.clf()"
   ]
  },
  {
   "cell_type": "code",
   "execution_count": null,
   "metadata": {},
   "outputs": [],
   "source": [
    "plt.subplot(311)\n",
    "GSLIB.hist_st(up_f,-1,2,log=False,cumul=False,bins=50,weights=None,xlabel=\"Up Fraction\",title=\"Up Fraction: {0} with {1} and {2}\".format(sample, pair[0], pair[1]))\n",
    "plt.ylim(0.0,500)\n",
    "\n",
    "plt.subplot(312)\n",
    "GSLIB.hist_st(soil_f,-1,2,log=False,cumul=False,bins=50,weights=None,xlabel=\"Soil Fraction\",title=\"Soil Fraction: {0}\".format(sample))\n",
    "plt.ylim(0.0,500)\n",
    "\n",
    "plt.subplot(313)\n",
    "GSLIB.hist_st(rain_f,-1,2,log=False,cumul=False,bins=50,weights=None,xlabel=\"Rain Fraction\",title=\"Rain Fraction: {0}\".format(sample))\n",
    "plt.ylim(0.0,500)\n",
    "\n",
    "plt.subplots_adjust(left=0.0, bottom=0.0, right=1.0, top=1.2, wspace=0.2, hspace=0.8)\n",
    "plt.show()"
   ]
  },
  {
   "cell_type": "code",
   "execution_count": null,
   "metadata": {},
   "outputs": [],
   "source": []
  }
 ],
 "metadata": {
  "kernelspec": {
   "display_name": "Python 3",
   "language": "python",
   "name": "python3"
  },
  "language_info": {
   "codemirror_mode": {
    "name": "ipython",
    "version": 3
   },
   "file_extension": ".py",
   "mimetype": "text/x-python",
   "name": "python",
   "nbconvert_exporter": "python",
   "pygments_lexer": "ipython3",
   "version": "3.7.6"
  }
 },
 "nbformat": 4,
 "nbformat_minor": 4
}
